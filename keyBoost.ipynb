{
 "cells": [
  {
   "cell_type": "markdown",
   "id": "5a4eef36",
   "metadata": {},
   "source": [
    "# Tutorial - Keyword Extraction with keyBoost"
   ]
  },
  {
   "cell_type": "markdown",
   "id": "10e17c0e",
   "metadata": {},
   "source": [
    "<img src=\"https://github.com/IIZCODEII/keyboost/raw/main/keyboost.png\" width=\"50%\">"
   ]
  },
  {
   "cell_type": "markdown",
   "id": "0d2270a6",
   "metadata": {},
   "source": [
    "During this brief tutorial, we'll explore how to extract keywords with keyBoost in the most classical scenario. Doing so, we'll showcase the capabilities of this package and the parameters you may want to tune for your own use-case."
   ]
  },
  {
   "cell_type": "markdown",
   "id": "03246199",
   "metadata": {},
   "source": [
    "#### About keyBoost"
   ]
  },
  {
   "cell_type": "markdown",
   "id": "797852e5",
   "metadata": {},
   "source": [
    "KeyBoost is simple and easy-to-use keyword extraction tool that moves away the hassle of selecting the best models for your specific use-case. No background in the litterature of keyword extraction or expertise is needed to extract the best possible keywords given no prior knowledge of what are the most performant models for your use case."
   ]
  },
  {
   "cell_type": "markdown",
   "id": "358dd622",
   "metadata": {},
   "source": [
    "## Environnement Set-up"
   ]
  },
  {
   "cell_type": "markdown",
   "id": "61dd630f",
   "metadata": {},
   "source": [
    "### Installing keyBoost"
   ]
  },
  {
   "cell_type": "markdown",
   "id": "94d940ff",
   "metadata": {},
   "source": [
    "Running this cell will allow to install the package directly from the corresponding github repository."
   ]
  },
  {
   "cell_type": "code",
   "execution_count": 9,
   "id": "4e5e3a1a",
   "metadata": {},
   "outputs": [
    {
     "name": "stdout",
     "output_type": "stream",
     "text": [
      "^C\n",
      "Note: you may need to restart the kernel to use updated packages.\n"
     ]
    }
   ],
   "source": [
    "!pip install git+https://github.com/IIZCODEII/keyboost.git#egg=keyboost"
   ]
  },
  {
   "cell_type": "markdown",
   "id": "7f693e31",
   "metadata": {},
   "source": [
    "To take into account any potential updates on prexisting librairies, restarting the notebook by going to Runtime ==> Restart Runtime is strongly advised."
   ]
  },
  {
   "cell_type": "markdown",
   "id": "5b6ea9d8",
   "metadata": {},
   "source": [
    "### Enabling GPU acceleration "
   ]
  },
  {
   "cell_type": "markdown",
   "id": "57b2b482",
   "metadata": {},
   "source": [
    "Although not necessary, GPU acceleration can lead to an increased time performance for the keywords generation process. It can be enabled on Colab by navigating to Edit ==> Notebook Settings and selecting GPU hardware acceleration in the dropdown menu."
   ]
  },
  {
   "cell_type": "markdown",
   "id": "c2166259",
   "metadata": {},
   "source": [
    "## Basic Usage"
   ]
  },
  {
   "cell_type": "markdown",
   "id": "9df5aae2",
   "metadata": {},
   "source": [
    "The basic task of extracting keywords from a document with keyBoost can be done in a few lines of code :"
   ]
  },
  {
   "cell_type": "code",
   "execution_count": 13,
   "id": "bd4f8c1d",
   "metadata": {},
   "outputs": [],
   "source": [
    "from keyboost.keyBoost import *\n",
    "\n",
    "doc = \"\"\"\n",
    "         Supervised learning is the machine learning task of learning a function that\n",
    "         maps an input to an output based on example input-output pairs.[1] It infers a\n",
    "         function from labeled training data consisting of a set of training examples.[2]\n",
    "         In supervised learning, each example is a pair consisting of an input object\n",
    "         (typically a vector) and a desired output value (also called the supervisory signal). \n",
    "         A supervised learning algorithm analyzes the training data and produces an inferred function, \n",
    "         which can be used for mapping new examples. An optimal scenario will allow for the \n",
    "         algorithm to correctly determine the class labels for unseen instances. This requires \n",
    "         the learning algorithm to generalize from the training data to unseen situations in a \n",
    "         'reasonable' way (see inductive bias).\n",
    "      \"\"\"\n",
    "\n"
   ]
  },
  {
   "cell_type": "code",
   "execution_count": null,
   "id": "a7876c6a",
   "metadata": {},
   "outputs": [],
   "source": [
    "keyboost = KeyBoost('paraphrase-MiniLM-L6-v2') # selecting a generic SoTA model"
   ]
  },
  {
   "cell_type": "code",
   "execution_count": null,
   "id": "cd7acf91",
   "metadata": {},
   "outputs": [],
   "source": [
    "keywords = keyboost.extract_keywords(text=doc,\n",
    "                       language='en',\n",
    "                       n_top=10,\n",
    "                       keyphrases_ngram_max=2,\n",
    "                       stopwords=stopwords,\n",
    "                       consensus='statistical',\n",
    "                       models=['keybert','yake','textrank'])"
   ]
  },
  {
   "cell_type": "code",
   "execution_count": 6,
   "id": "fe5ffab5",
   "metadata": {
    "scrolled": true
   },
   "outputs": [
    {
     "data": {
      "text/plain": [
       "0    input-output pairs.\n",
       "1    Supervised learning\n",
       "2    examples supervised\n",
       "3          training data\n",
       "4       machine learning\n",
       "5      learning function\n",
       "6     learning algorithm\n",
       "7           output based\n",
       "8                 unseen\n",
       "9               examples\n",
       "Name: Keyword, dtype: object"
      ]
     },
     "execution_count": 6,
     "metadata": {},
     "output_type": "execute_result"
    }
   ],
   "source": [
    "keywords"
   ]
  },
  {
   "cell_type": "markdown",
   "id": "a5a37a5e",
   "metadata": {},
   "source": [
    "### Tuning the length of the keyphrases"
   ]
  },
  {
   "cell_type": "markdown",
   "id": "c38fe12f",
   "metadata": {},
   "source": [
    "To do so, you can just set `keyphrase_ngram_max` to the top bound of your linking. For example, if we want keyphrases composed with up to 3 words :"
   ]
  },
  {
   "cell_type": "code",
   "execution_count": null,
   "id": "807ba42d",
   "metadata": {},
   "outputs": [],
   "source": [
    "keywords = keyboost.extract_keywords(text=doc,\n",
    "                       language='en',\n",
    "                       n_top=10,\n",
    "                       keyphrases_ngram_max=3,\n",
    "                       consensus='statistical',\n",
    "                       models=['keybert','yake','textrank'])"
   ]
  },
  {
   "cell_type": "code",
   "execution_count": null,
   "id": "a7cfdf41",
   "metadata": {},
   "outputs": [],
   "source": [
    "keywords"
   ]
  },
  {
   "cell_type": "markdown",
   "id": "57d9d5b7",
   "metadata": {},
   "source": [
    "### Tuning the number of extracted keywords"
   ]
  },
  {
   "cell_type": "markdown",
   "id": "440f029a",
   "metadata": {},
   "source": [
    "This time, you can play around by setting `n_top` to value that suits what you're looking for. Here we it was changed to 15:"
   ]
  },
  {
   "cell_type": "code",
   "execution_count": null,
   "id": "eb66f30f",
   "metadata": {},
   "outputs": [],
   "source": [
    "keywords = keyboost.extract_keywords(text=doc,\n",
    "                       language='en',\n",
    "                       n_top=15,\n",
    "                       keyphrases_ngram_max=3,\n",
    "                       consensus='statistical',\n",
    "                       models=['keybert','yake','textrank'])"
   ]
  },
  {
   "cell_type": "code",
   "execution_count": null,
   "id": "8e29b143",
   "metadata": {},
   "outputs": [],
   "source": [
    "keywords"
   ]
  },
  {
   "cell_type": "markdown",
   "id": "a2cb6a97",
   "metadata": {},
   "source": [
    "### Including custom stopwords"
   ]
  },
  {
   "cell_type": "markdown",
   "id": "aab2fc59",
   "metadata": {},
   "source": [
    "For better results, it is a good practice to systematically includes stopwords, a generic list is greatly sufficient in general but a curated list targeted to specifically to your needs will add this much relevance to the extractions.\n",
    "\n",
    "Here, we leverage spacy's provided stopwords for the english language:"
   ]
  },
  {
   "cell_type": "code",
   "execution_count": null,
   "id": "7614295d",
   "metadata": {},
   "outputs": [],
   "source": [
    "import spacy\n",
    "\n",
    "nlp = spacy.load('en_core_web_sm')\n",
    "\n",
    "stopwords = nlp.Defaults.stop_words"
   ]
  },
  {
   "cell_type": "code",
   "execution_count": null,
   "id": "6ffe1b74",
   "metadata": {},
   "outputs": [],
   "source": [
    "keywords = keyboost.extract_keywords(text=doc,\n",
    "                       language='en',\n",
    "                       n_top=10,\n",
    "                       keyphrases_ngram_max=2,\n",
    "                       stopwords=stopwords,\n",
    "                       consensus='statistical',\n",
    "                       models=['keybert','yake','textrank'])"
   ]
  },
  {
   "cell_type": "code",
   "execution_count": null,
   "id": "5f179a40",
   "metadata": {},
   "outputs": [],
   "source": [
    "keywords"
   ]
  },
  {
   "cell_type": "markdown",
   "id": "aa798edb",
   "metadata": {},
   "source": [
    "### Language support"
   ]
  },
  {
   "cell_type": "markdown",
   "id": "b3b85959",
   "metadata": {},
   "source": [
    "Modifying the `language` parameter with the [ISO 639-1 codes](https://en.wikipedia.org/wiki/List_of_ISO_639-1_codes) of the language of document you want to extract keywords from can be useful.\n",
    "However, your specific language may not be supported by the underlying keyword extraction models or by the embedding model. For the mainly used ones in the keyword extraction litterature, it should be fine."
   ]
  },
  {
   "cell_type": "markdown",
   "id": "781a8aa0",
   "metadata": {},
   "source": [
    "### Complete example code"
   ]
  },
  {
   "cell_type": "markdown",
   "id": "03c04ce1",
   "metadata": {},
   "source": [
    "The following cell exhibits the complete code of a typical keyword extraction using the most common parameters."
   ]
  },
  {
   "cell_type": "code",
   "execution_count": null,
   "id": "5520be13",
   "metadata": {},
   "outputs": [],
   "source": [
    "import spacy\n",
    "from keyboost.keyBoost import *\n",
    "\n",
    "doc = \"\"\"\n",
    "         Supervised learning is the machine learning task of learning a function that\n",
    "         maps an input to an output based on example input-output pairs.[1] It infers a\n",
    "         function from labeled training data consisting of a set of training examples.[2]\n",
    "         In supervised learning, each example is a pair consisting of an input object\n",
    "         (typically a vector) and a desired output value (also called the supervisory signal). \n",
    "         A supervised learning algorithm analyzes the training data and produces an inferred function, \n",
    "         which can be used for mapping new examples. An optimal scenario will allow for the \n",
    "         algorithm to correctly determine the class labels for unseen instances. This requires \n",
    "         the learning algorithm to generalize from the training data to unseen situations in a \n",
    "         'reasonable' way (see inductive bias).\n",
    "      \"\"\"\n",
    "\n",
    "\n",
    "nlp = spacy.load('en_core_web_sm')\n",
    "\n",
    "stopwords = nlp.Defaults.stop_words\n",
    "\n",
    "\n",
    "keyboost = KeyBoost('paraphrase-MiniLM-L6-v2')\n",
    "\n",
    "\n",
    "keywords = keyboost.extract_keywords(text=doc,\n",
    "                       language='en',\n",
    "                       n_top=10,\n",
    "                       keyphrases_ngram_max=2,\n",
    "                       stopwords=stopwords,\n",
    "                       consensus='statistical',\n",
    "                       models=['keybert','yake','textrank'])"
   ]
  },
  {
   "cell_type": "markdown",
   "id": "4553e435",
   "metadata": {},
   "source": [
    "## Underlying models"
   ]
  },
  {
   "cell_type": "markdown",
   "id": "254b8b4d",
   "metadata": {},
   "source": [
    "By default, it is recommanded to use all of the 3 models supported by keyBoost for the moment.(KeyBERT, YAKE! and TextRank)\n",
    "\n",
    "If you have any kind of information leading you to want to use only a subset of these models, you can simply specify this sublist as the value for `models`.\n",
    "\n",
    "For instance, if you wanted only YAKE! and TextRank :"
   ]
  },
  {
   "cell_type": "code",
   "execution_count": null,
   "id": "a8e6a197",
   "metadata": {},
   "outputs": [],
   "source": [
    "selected_models = ['yake','textrank']\n",
    "\n",
    "\n",
    "keywords = keyboost.extract_keywords(text=doc,\n",
    "                       language='en',\n",
    "                       n_top=10,\n",
    "                       keyphrases_ngram_max=2,\n",
    "                       stopwords=stopwords,\n",
    "                       consensus='statistical',\n",
    "                       models=selected_models)"
   ]
  },
  {
   "cell_type": "code",
   "execution_count": null,
   "id": "0085af91",
   "metadata": {},
   "outputs": [],
   "source": [
    "keywords"
   ]
  },
  {
   "cell_type": "markdown",
   "id": "72c7e23c",
   "metadata": {},
   "source": [
    "## Consensus type"
   ]
  },
  {
   "cell_type": "markdown",
   "id": "87d868bf",
   "metadata": {},
   "source": [
    "keyBoost provides two types of consensus to consolidates the predictions of the different underlying models : *statstical consensus* and *ranking consensus*.\n",
    "\n",
    "By default, it is recommanded to use the *statistical consensus* as it is prone to give you the best results the majority of the time. However, if you want anyway to try the *ranking* consensus, you can directly set the `consensus` parameters to *rank* :"
   ]
  },
  {
   "cell_type": "code",
   "execution_count": null,
   "id": "7deb8f40",
   "metadata": {},
   "outputs": [],
   "source": [
    "keywords = keyboost.extract_keywords(text=doc,\n",
    "                       language='en',\n",
    "                       n_top=10,\n",
    "                       keyphrases_ngram_max=2,\n",
    "                       stopwords=stopwords,\n",
    "                       consensus='rank',\n",
    "                       models=['keybert','yake','textrank'])"
   ]
  },
  {
   "cell_type": "code",
   "execution_count": null,
   "id": "9a921be3",
   "metadata": {},
   "outputs": [],
   "source": [
    "keywords"
   ]
  },
  {
   "cell_type": "markdown",
   "id": "cf4febac",
   "metadata": {},
   "source": [
    "#### Addtional informations when using the *statistical consensus*"
   ]
  },
  {
   "cell_type": "code",
   "execution_count": null,
   "id": "f48acc05",
   "metadata": {},
   "outputs": [],
   "source": [
    "keywords = keyboost.extract_keywords(text=doc,\n",
    "                       language='en',\n",
    "                       n_top=10,\n",
    "                       keyphrases_ngram_max=2,\n",
    "                       stopwords=stopwords,\n",
    "                       consensus='statistical',\n",
    "                       models=['keybert','yake','textrank'])"
   ]
  },
  {
   "cell_type": "markdown",
   "id": "07f92943",
   "metadata": {},
   "source": [
    "Due to the *statistical consensus* nature, it may sometimes fall back to the *ranking consensus* if the distributions of the scores outputed by the underlying models do not meet certain requirements.\n",
    "You can quickly check for the *completeness* of the statistical consensus procedure ( meaning no fallback to the *ranking* consensus) by typing :"
   ]
  },
  {
   "cell_type": "code",
   "execution_count": 7,
   "id": "750b78d8",
   "metadata": {},
   "outputs": [
    {
     "data": {
      "text/plain": [
       "True"
      ]
     },
     "execution_count": 7,
     "metadata": {},
     "output_type": "execute_result"
    }
   ],
   "source": [
    "keyboost.is_statistical_consensus_completed"
   ]
  },
  {
   "cell_type": "markdown",
   "id": "d563b838",
   "metadata": {},
   "source": [
    "Finally, if the *statistical consensus* is complete and you want to check the respective scores of the outputed keywords, you can simply type:"
   ]
  },
  {
   "cell_type": "code",
   "execution_count": 8,
   "id": "c30f95c8",
   "metadata": {
    "scrolled": true
   },
   "outputs": [
    {
     "data": {
      "text/html": [
       "<div>\n",
       "<style scoped>\n",
       "    .dataframe tbody tr th:only-of-type {\n",
       "        vertical-align: middle;\n",
       "    }\n",
       "\n",
       "    .dataframe tbody tr th {\n",
       "        vertical-align: top;\n",
       "    }\n",
       "\n",
       "    .dataframe thead th {\n",
       "        text-align: right;\n",
       "    }\n",
       "</style>\n",
       "<table border=\"1\" class=\"dataframe\">\n",
       "  <thead>\n",
       "    <tr style=\"text-align: right;\">\n",
       "      <th></th>\n",
       "      <th>Keyword</th>\n",
       "      <th>Score</th>\n",
       "    </tr>\n",
       "  </thead>\n",
       "  <tbody>\n",
       "    <tr>\n",
       "      <th>0</th>\n",
       "      <td>input-output pairs.</td>\n",
       "      <td>5.912583</td>\n",
       "    </tr>\n",
       "    <tr>\n",
       "      <th>1</th>\n",
       "      <td>Supervised learning</td>\n",
       "      <td>5.189542</td>\n",
       "    </tr>\n",
       "    <tr>\n",
       "      <th>2</th>\n",
       "      <td>examples supervised</td>\n",
       "      <td>4.408128</td>\n",
       "    </tr>\n",
       "    <tr>\n",
       "      <th>3</th>\n",
       "      <td>training data</td>\n",
       "      <td>3.995092</td>\n",
       "    </tr>\n",
       "    <tr>\n",
       "      <th>4</th>\n",
       "      <td>machine learning</td>\n",
       "      <td>3.827660</td>\n",
       "    </tr>\n",
       "    <tr>\n",
       "      <th>5</th>\n",
       "      <td>learning function</td>\n",
       "      <td>3.625091</td>\n",
       "    </tr>\n",
       "    <tr>\n",
       "      <th>6</th>\n",
       "      <td>learning algorithm</td>\n",
       "      <td>3.468484</td>\n",
       "    </tr>\n",
       "    <tr>\n",
       "      <th>7</th>\n",
       "      <td>output based</td>\n",
       "      <td>3.458874</td>\n",
       "    </tr>\n",
       "    <tr>\n",
       "      <th>8</th>\n",
       "      <td>unseen</td>\n",
       "      <td>3.384235</td>\n",
       "    </tr>\n",
       "    <tr>\n",
       "      <th>9</th>\n",
       "      <td>examples</td>\n",
       "      <td>3.107092</td>\n",
       "    </tr>\n",
       "  </tbody>\n",
       "</table>\n",
       "</div>"
      ],
      "text/plain": [
       "               Keyword     Score\n",
       "0  input-output pairs.  5.912583\n",
       "1  Supervised learning  5.189542\n",
       "2  examples supervised  4.408128\n",
       "3        training data  3.995092\n",
       "4     machine learning  3.827660\n",
       "5    learning function  3.625091\n",
       "6   learning algorithm  3.468484\n",
       "7         output based  3.458874\n",
       "8               unseen  3.384235\n",
       "9             examples  3.107092"
      ]
     },
     "execution_count": 8,
     "metadata": {},
     "output_type": "execute_result"
    }
   ],
   "source": [
    "keyboost.statistical_consensus_scores"
   ]
  },
  {
   "cell_type": "markdown",
   "id": "623268d4",
   "metadata": {},
   "source": [
    "Note : due to its nature, the *ranking consensus* does not output any (keyword, score) pairing."
   ]
  },
  {
   "cell_type": "markdown",
   "id": "e410e2af",
   "metadata": {},
   "source": [
    "## Embedding Models"
   ]
  },
  {
   "cell_type": "markdown",
   "id": "9fb41761",
   "metadata": {},
   "source": [
    "Emdeddings are a part of the consensus procedure as well as a central element for the KeyBERT keywords extraction.\n",
    "\n",
    "Although we recommand paraphrase-MiniLM-L6-v2, which a state of the art go to model in term of embeddings, you can specify any sentence-transformers model name avalaible  [here](https://www.sbert.net/docs/pretrained_models.html) and use it for both consensus and KeyBert.\n",
    "\n",
    "For instance, with the stsb-distilroberta-base-v2 pretrained model (if its the first time you choose this model, it will automatically download it) :"
   ]
  },
  {
   "cell_type": "code",
   "execution_count": 12,
   "id": "73f04751",
   "metadata": {},
   "outputs": [],
   "source": [
    "keyboost = KeyBoost('stsb-distilroberta-base-v2')\n",
    "\n",
    "\n",
    "keywords = keyboost.extract_keywords(text=doc,\n",
    "                       language='en',\n",
    "                       n_top=10,\n",
    "                       keyphrases_ngram_max=2,\n",
    "                       stopwords=stopwords,\n",
    "                       consensus='statistical',\n",
    "                       models=['keybert','yake','textrank'])"
   ]
  },
  {
   "cell_type": "code",
   "execution_count": 11,
   "id": "80f33bc7",
   "metadata": {},
   "outputs": [
    {
     "data": {
      "text/plain": [
       "0    input-output pairs.\n",
       "1    Supervised learning\n",
       "2          training data\n",
       "3       learning machine\n",
       "4               learning\n",
       "5           output based\n",
       "6                 unseen\n",
       "7          example input\n",
       "8    examples supervised\n",
       "9       labeled training\n",
       "Name: Keyword, dtype: object"
      ]
     },
     "execution_count": 11,
     "metadata": {},
     "output_type": "execute_result"
    }
   ],
   "source": [
    "keywords"
   ]
  }
 ],
 "metadata": {
  "kernelspec": {
   "display_name": "Python 3",
   "language": "python",
   "name": "python3"
  },
  "language_info": {
   "codemirror_mode": {
    "name": "ipython",
    "version": 3
   },
   "file_extension": ".py",
   "mimetype": "text/x-python",
   "name": "python",
   "nbconvert_exporter": "python",
   "pygments_lexer": "ipython3",
   "version": "3.8.8"
  }
 },
 "nbformat": 4,
 "nbformat_minor": 5
}
